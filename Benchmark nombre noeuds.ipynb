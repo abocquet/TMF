{
 "cells": [
  {
   "cell_type": "code",
   "execution_count": 1,
   "metadata": {},
   "outputs": [],
   "source": [
    "###########################\n",
    "# Imports\n",
    "###########################\n",
    "import sys\n",
    "\n",
    "import matplotlib.pyplot as plt\n",
    "import numpy as np\n",
    "\n",
    "from simulation.elements.Element import Element\n",
    "from simulation.elements.MeltSlicedElement import MeltSlicedElement\n",
    "from simulation.exchanges.Exchange import Exchange\n",
    "from simulation.exchanges.SolidExchange import SolidExchange\n",
    "from simulation.models.Model import Model\n",
    "\n",
    "from threading import Thread\n",
    "\n",
    "%matplotlib inline\n",
    "\n",
    "###########################\n",
    "#  Définition des grandeurs\n",
    "###########################\n",
    "\n",
    "simulation_time = 3600 * 100 # s\n",
    "\n",
    "# Béton\n",
    "hauteur_beton_sacrificiel = 0.5  # metres\n",
    "surface_beton = 99\n",
    "temperature_intiale_beton = 70 + 273  # K\n",
    "conductivite_beton = 1.9082\n",
    "temperature_fusion_beton = 1500  # K\n",
    "chaleur_latente_beton = 640000  # J/kg\n",
    "masse_beton = 100000\n",
    "capacite_thermique_beton = 1430\n",
    "volume_beton = hauteur_beton_sacrificiel * surface_beton\n",
    "masse_volumique_beton = masse_beton / volume_beton\n",
    "\n",
    "# Air\n",
    "temperature_initiale_air = 1450 + 273  # ° kelvins\n",
    "masse_air = 1000  # kg\n",
    "capacite_thermique_air = 1100\n",
    "conductivite_air = 0.08\n",
    "masse_volumique_air = 1.2  # kg/m^3\n",
    "hauteur_air = masse_air / masse_volumique_air / surface_beton\n",
    "\n",
    "# Corium\n",
    "coefficient_echange_air_corium = 5  # W/(m2.K)\n",
    "masse_volumique_corium = 4600  # kg/m^3\n",
    "volume_corium = 59  # m^3\n",
    "masse_corium = 271e3\n",
    "capacite_thermique_corium = lambda t: 1000 if t <= 1700 else (1700 if t <= 2200 else 800)\n",
    "#conductivite_corium = lambda t: 0.001 * t + 1 if t <= 1600 else (0.001 * t + 1 if t <= 2000 else 0.0067 * t - 10.333)\n",
    "conductivite_corium = lambda t: 0.000875 * (t - 1200) + 2.3 if t <= 2000 else 0.0066666667*(t-2000)+3\n",
    "hauteur_corium = masse_corium / masse_volumique_corium / surface_beton\n",
    "\n",
    "temperature_initiale_corium = 2273\n",
    "#production_chaleur_corium = 35e6\n",
    "\n",
    "T0 = 365  # jours de fonctionnement du réacteur avant incident\n",
    "production_chaleur_corium = lambda time, T=None: 6.48e-3 * 4500e6 * ((time / (3600 * 24)) ** -0.2 - ((time / (3600 * 24)) + T0) ** -0.2)\n",
    "\n",
    "\n",
    "# Acier\n",
    "temperature_initiale_acier = 343\n",
    "temperature_fusion_acier = 1500\n",
    "masse_volumique_acier = 8000\n",
    "conductivite_thermique_acier = 50\n",
    "capacite_thermique_acier = 470\n",
    "surface_acier = 2.4\n",
    "epaisseur_acier = 0.04\n",
    "volume_acier = surface_acier * epaisseur_acier\n",
    "masse_acier = masse_volumique_acier * volume_acier"
   ]
  },
  {
   "cell_type": "code",
   "execution_count": 2,
   "metadata": {},
   "outputs": [],
   "source": [
    "def run_simulation(nombre_couches, timestep=1):\n",
    "    model = Model([\n",
    "        Element(temperature_initiale_air, masse_volumique_air, 3, capacite_thermique_air, surface_beton,\n",
    "                conductivite_air),\n",
    "        Exchange(h=5 * 99, radiations=False, prev_temp_radiation=1500),\n",
    "        Element(temperature_initiale_corium, masse_volumique_corium, volume_corium / surface_beton,\n",
    "                capacite_thermique_corium, surface_beton, conductivite_corium, production_chaleur_corium),\n",
    "        SolidExchange(radiations=False),\n",
    "        MeltSlicedElement(temperature_intiale_beton, masse_volumique_beton,\n",
    "                          hauteur_beton_sacrificiel, surface_beton,\n",
    "                          capacite_thermique_beton, conductivite_beton, nombre_couches, temperature_fusion_beton,\n",
    "                          chaleur_latente_beton,\n",
    "                          0),\n",
    "        SolidExchange(radiations=False),\n",
    "        Element(temperature_initiale_acier, masse_volumique_acier, epaisseur_acier, capacite_thermique_acier,\n",
    "                surface_acier, conductivite_thermique_acier, 0)\n",
    "    ])\n",
    "\n",
    "    time = model.run(\n",
    "        timestep=timestep, time=simulation_time,\n",
    "        time_offset=0,\n",
    "        early_interrupt=lambda s: s.layers[-1].T > temperature_fusion_acier + 150\n",
    "    )\n",
    "\n",
    "    return np.argmax(np.array(model.layers[-1].history[\"T\"]) > temperature_fusion_acier) * timestep, model, time"
   ]
  },
  {
   "cell_type": "code",
   "execution_count": 3,
   "metadata": {},
   "outputs": [],
   "source": [
    "mem = {}"
   ]
  },
  {
   "cell_type": "code",
   "execution_count": 4,
   "metadata": {
    "scrolled": true
   },
   "outputs": [
    {
     "name": "stderr",
     "output_type": "stream",
     "text": [
      " 11% (39828 of 360000) |#                | Elapsed Time: 0:00:13 ETA:   0:02:21"
     ]
    }
   ],
   "source": [
    "couches_a_tester = []\n",
    "couches_a_tester += [i for i in range(1, 10)] + [10 * i for i in range(1, 11)]\n",
    "couches_a_tester += [15]\n",
    "\n",
    "for n in couches_a_tester:\n",
    "    mem[n] = run_simulation(n)\n",
    "    "
   ]
  },
  {
   "cell_type": "code",
   "execution_count": 5,
   "metadata": {},
   "outputs": [
    {
     "data": {
      "text/plain": [
       "Text(0.5, 1.0, 'Temps de rétention du corium dans le puit de cuve\\nen fonction du nombre de couches de béton')"
      ]
     },
     "execution_count": 5,
     "metadata": {},
     "output_type": "execute_result"
    },
    {
     "data": {
      "text/plain": [
       "<Figure size 720x360 with 0 Axes>"
      ]
     },
     "metadata": {},
     "output_type": "display_data"
    },
    {
     "data": {
      "image/png": "[encoded data removed]",
      "text/plain": [
       "<Figure size 432x288 with 1 Axes>"
      ]
     },
     "metadata": {
      "needs_background": "light"
     },
     "output_type": "display_data"
    }
   ],
   "source": [
    "from matplotlib.ticker import FuncFormatter\n",
    "\n",
    "plt.figure(figsize=(10, 5))\n",
    "fig, ax = plt.subplots()\n",
    "\n",
    "#plt.xscale(\"log\")\n",
    "#plt.yscale(\"log\")\n",
    "\n",
    "def format_fn(tick_val, tick_pos):\n",
    "    return \"{}h{}m\".format(int(tick_val / 3600), int((tick_val % 3600) / 60))\n",
    "\n",
    "ax.plot(mem.keys(), list(map(lambda x: x[0], mem.values())), \".\")\n",
    "ax.yaxis.set_major_formatter(FuncFormatter(format_fn))\n",
    "plt.title(\"Temps de rétention du corium dans le puit de cuve\\nen fonction du nombre de couches de béton\")"
   ]
  },
  {
   "cell_type": "code",
   "execution_count": 6,
   "metadata": {
    "scrolled": true
   },
   "outputs": [
    {
     "data": {
      "text/plain": [
       "10"
      ]
     },
     "execution_count": 6,
     "metadata": {},
     "output_type": "execute_result"
    }
   ],
   "source": [
    "lim = mem[100][0]\n",
    "min(list(filter(lambda i: abs(i[1][0] - lim) < lim * 0.05, mem.items())), key=lambda x: x[0])[0]"
   ]
  },
  {
   "cell_type": "code",
   "execution_count": 24,
   "metadata": {
    "scrolled": false
   },
   "outputs": [
    {
     "name": "stdout",
     "output_type": "stream",
     "text": [
      "1;0.00013023497228685862\n",
      "2;0.06226512196360553\n",
      "3;0.07398337889456436\n",
      "4;0.07850430227810828\n",
      "5;0.08076938732797788\n",
      "6;0.08209741071123212\n",
      "7;0.08295586718786728\n",
      "8;0.08355288986262932\n",
      "9;0.08399216947963417\n",
      "10;0.08432652407601811\n",
      "20;0.08566609631279329\n",
      "30;0.08606835454096054\n",
      "40;0.08625892249418195\n",
      "50;0.08637591445083409\n",
      "60;0.08645280367376965\n",
      "70;0.08651006808297743\n",
      "80;0.0865496498562388\n",
      "90;0.08658709395193237\n",
      "100;0.08661052987783015\n",
      "15;0.08524773063275642\n"
     ]
    }
   ],
   "source": [
    "from scipy import stats\n",
    "\n",
    "for n_couches, (tf, model, time) in mem.items():\n",
    "    inf, sup = 0, -1\n",
    "    a, b = time[inf:sup], np.array(model.layers[1].history[\"x\"][inf:sup])\n",
    "    #plt.plot(a,b)\n",
    "    slope, intercept, r_value, p_value, std_err = stats.linregress(a,b)\n",
    "    #plt.plot(a, a * slope + intercept)\n",
    "\n",
    "    #print(\"{} couches : {}x + {}, r^2 = {}\".format(n_couches, slope * 60 * 1000, intercept * 1000, r_value ** 2))\n",
    "    print(\"{};{}\".format(n_couches, slope * 60 * 1000))\n",
    "    #plt.show()\n"
   ]
  },
  {
   "cell_type": "code",
   "execution_count": 17,
   "metadata": {},
   "outputs": [
    {
     "data": {
      "text/plain": [
       "(107443,\n",
       " <simulation.models.Model.Model at 0x10276eb70>,\n",
       " array([0.00000000e+00, 3.34977203e+00, 6.69954406e+00, ...,\n",
       "        3.59993300e+05, 3.59996650e+05, 3.60000000e+05]))"
      ]
     },
     "execution_count": 17,
     "metadata": {},
     "output_type": "execute_result"
    }
   ],
   "source": [
    "mem[1]"
   ]
  },
  {
   "cell_type": "code",
   "execution_count": null,
   "metadata": {},
   "outputs": [],
   "source": []
  }
 ],
 "metadata": {
  "kernelspec": {
   "display_name": "Python 3",
   "language": "python",
   "name": "python3"
  },
  "language_info": {
   "codemirror_mode": {
    "name": "ipython",
    "version": 3
   },
   "file_extension": ".py",
   "mimetype": "text/x-python",
   "name": "python",
   "nbconvert_exporter": "python",
   "pygments_lexer": "ipython3",
   "version": "3.6.5"
  }
 },
 "nbformat": 4,
 "nbformat_minor": 2
}
