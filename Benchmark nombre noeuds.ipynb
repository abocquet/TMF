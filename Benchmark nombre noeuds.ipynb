{
 "cells": [
  {
   "cell_type": "code",
   "execution_count": 1,
   "metadata": {},
   "outputs": [],
   "source": [
    "###########################\n",
    "# Imports\n",
    "###########################\n",
    "import sys\n",
    "\n",
    "import matplotlib.pyplot as plt\n",
    "import numpy as np\n",
    "\n",
    "from simulation.elements.Element import Element\n",
    "from simulation.elements.MeltSlicedElement import MeltSlicedElement\n",
    "from simulation.exchanges.Exchange import Exchange\n",
    "from simulation.exchanges.SolidExchange import SolidExchange\n",
    "from simulation.models.Model import Model\n",
    "\n",
    "from threading import Thread\n",
    "\n",
    "%matplotlib inline\n",
    "\n",
    "###########################\n",
    "#  Définition des grandeurs\n",
    "###########################\n",
    "\n",
    "simulation_time = 3600 * 100 # s\n",
    "\n",
    "# Béton\n",
    "hauteur_beton_sacrificiel = 0.5  # metres\n",
    "surface_beton = 99\n",
    "temperature_intiale_beton = 70 + 273  # K\n",
    "conductivite_beton = 1.9082\n",
    "temperature_fusion_beton = 1500  # K\n",
    "chaleur_latente_beton = 640000  # J/kg\n",
    "masse_beton = 100000\n",
    "capacite_thermique_beton = 1430\n",
    "volume_beton = hauteur_beton_sacrificiel * surface_beton\n",
    "masse_volumique_beton = masse_beton / volume_beton\n",
    "\n",
    "# Air\n",
    "temperature_initiale_air = 1450 + 273  # ° kelvins\n",
    "masse_air = 1000  # kg\n",
    "capacite_thermique_air = 1100\n",
    "conductivite_air = 0.08\n",
    "masse_volumique_air = 1.2  # kg/m^3\n",
    "hauteur_air = masse_air / masse_volumique_air / surface_beton\n",
    "\n",
    "# Corium\n",
    "coefficient_echange_air_corium = 5  # W/(m2.K)\n",
    "masse_volumique_corium = 4600  # kg/m^3\n",
    "volume_corium = 59  # m^3\n",
    "masse_corium = 271e3\n",
    "capacite_thermique_corium = lambda t: 1000 if t <= 1700 else (1700 if t <= 2200 else 800)\n",
    "#conductivite_corium = lambda t: 0.001 * t + 1 if t <= 1600 else (0.001 * t + 1 if t <= 2000 else 0.0067 * t - 10.333)\n",
    "conductivite_corium = lambda t: 0.000875 * (t - 1200) + 2.3 if t <= 2000 else 0.0066666667*(t-2000)+3\n",
    "hauteur_corium = masse_corium / masse_volumique_corium / surface_beton\n",
    "\n",
    "temperature_initiale_corium = 2273\n",
    "#production_chaleur_corium = 35e6\n",
    "\n",
    "T0 = 365  # jours de fonctionnement du réacteur avant incident\n",
    "production_chaleur_corium = lambda time, T=None: 6.48e-3 * 4500e6 * ((time / (3600 * 24)) ** -0.2 - ((time / (3600 * 24)) + T0) ** -0.2)\n",
    "\n",
    "\n",
    "# Acier\n",
    "temperature_initiale_acier = 343\n",
    "temperature_fusion_acier = 1500\n",
    "masse_volumique_acier = 8000\n",
    "conductivite_thermique_acier = 50\n",
    "capacite_thermique_acier = 470\n",
    "surface_acier = 2.4\n",
    "epaisseur_acier = 0.04\n",
    "volume_acier = surface_acier * epaisseur_acier\n",
    "masse_acier = masse_volumique_acier * volume_acier"
   ]
  },
  {
   "cell_type": "code",
   "execution_count": 2,
   "metadata": {},
   "outputs": [],
   "source": [
    "def run_simulation(nombre_couches, timestep=10):\n",
    "    model = Model([\n",
    "        Element(temperature_initiale_air, masse_volumique_air, 3, capacite_thermique_air, surface_beton,\n",
    "                conductivite_air),\n",
    "        Exchange(h=5 * 99, radiations=False, prev_temp_radiation=1500),\n",
    "        Element(temperature_initiale_corium, masse_volumique_corium, volume_corium / surface_beton,\n",
    "                capacite_thermique_corium, surface_beton, conductivite_corium, production_chaleur_corium),\n",
    "        SolidExchange(radiations=False),\n",
    "        MeltSlicedElement(temperature_intiale_beton, masse_volumique_beton,\n",
    "                          hauteur_beton_sacrificiel, surface_beton,\n",
    "                          capacite_thermique_beton, conductivite_beton, nombre_couches, temperature_fusion_beton,\n",
    "                          chaleur_latente_beton,\n",
    "                          0),\n",
    "        SolidExchange(radiations=False),\n",
    "        Element(temperature_initiale_acier, masse_volumique_acier, epaisseur_acier, capacite_thermique_acier,\n",
    "                surface_acier, conductivite_thermique_acier, 0)\n",
    "    ])\n",
    "\n",
    "    time = model.run(\n",
    "        timestep=timestep, time=simulation_time,\n",
    "        time_offset=0,\n",
    "        early_interrupt=lambda s: s.layers[-1].T > temperature_fusion_acier + 150\n",
    "    )\n",
    "\n",
    "    return np.argmax(np.array(model.layers[-1].history[\"T\"]) > temperature_fusion_acier) * timestep"
   ]
  },
  {
   "cell_type": "code",
   "execution_count": 36,
   "metadata": {},
   "outputs": [],
   "source": [
    "mem = {}"
   ]
  },
  {
   "cell_type": "code",
   "execution_count": 37,
   "metadata": {
    "scrolled": true
   },
   "outputs": [
    {
     "name": "stderr",
     "output_type": "stream",
     "text": [
      "  9% (3543 of 36000) |#                  | Elapsed Time: 0:00:07 ETA:   0:01:28"
     ]
    }
   ],
   "source": [
    "couches_a_tester = []\n",
    "couches_a_tester += [i for i in range(1, 10)] + [10 * i for i in range(1, 10)] + [20 * i + 100 for i in range(1, 21)]\n",
    "couches_a_tester += [15, 100]\n",
    "\n",
    "for n in couches_a_tester:\n",
    "    mem[n] = run_simulation(n)\n",
    "    "
   ]
  },
  {
   "cell_type": "code",
   "execution_count": 38,
   "metadata": {},
   "outputs": [
    {
     "data": {
      "text/plain": [
       "Text(0.5, 1.0, 'Temps de rétention du corium dans le puit de cuve\\nen fonction du nombre de couches de béton')"
      ]
     },
     "execution_count": 38,
     "metadata": {},
     "output_type": "execute_result"
    },
    {
     "data": {
      "text/plain": [
       "<Figure size 720x360 with 0 Axes>"
      ]
     },
     "metadata": {},
     "output_type": "display_data"
    },
    {
     "data": {
      "image/png": "[encoded data removed]",
      "text/plain": [
       "<Figure size 432x288 with 1 Axes>"
      ]
     },
     "metadata": {
      "needs_background": "light"
     },
     "output_type": "display_data"
    }
   ],
   "source": [
    "from matplotlib.ticker import FuncFormatter, MaxNLocator\n",
    "\n",
    "plt.figure(figsize=(10, 5))\n",
    "fig, ax = plt.subplots()\n",
    "\n",
    "#plt.xscale(\"log\")\n",
    "#plt.yscale(\"log\")\n",
    "\n",
    "def format_fn(tick_val, tick_pos):\n",
    "    return \"{}h{}m\".format(int(tick_val / 3600), int((tick_val % 3600) / 60))\n",
    "\n",
    "ax.plot(mem.keys(), mem.values(), \".\")\n",
    "ax.yaxis.set_major_formatter(FuncFormatter(format_fn))\n",
    "plt.title(\"Temps de rétention du corium dans le puit de cuve\\nen fonction du nombre de couches de béton\")"
   ]
  },
  {
   "cell_type": "code",
   "execution_count": 43,
   "metadata": {},
   "outputs": [
    {
     "name": "stdout",
     "output_type": "stream",
     "text": [
      "35560\n"
     ]
    },
    {
     "data": {
      "text/plain": [
       "(30, 36890)"
      ]
     },
     "execution_count": 43,
     "metadata": {},
     "output_type": "execute_result"
    }
   ],
   "source": [
    "lim = mem[500]\n",
    "print(lim)\n",
    "min(list(filter(lambda i: abs(i[1] - lim) < lim * 0.05, mem.items())), key=lambda x: x[0])"
   ]
  },
  {
   "cell_type": "code",
   "execution_count": 6,
   "metadata": {},
   "outputs": [
    {
     "ename": "NameError",
     "evalue": "name 'temps_a_tester' is not defined",
     "output_type": "error",
     "traceback": [
      "\u001b[0;31m---------------------------------------------------------------------------\u001b[0m",
      "\u001b[0;31mNameError\u001b[0m                                 Traceback (most recent call last)",
      "\u001b[0;32m<ipython-input-6-8faea0eb7d6e>\u001b[0m in \u001b[0;36m<module>\u001b[0;34m\u001b[0m\n\u001b[1;32m      3\u001b[0m \u001b[0;31m#temps_a_tester = [10 * i for i in range(2, 12)]\u001b[0m\u001b[0;34m\u001b[0m\u001b[0;34m\u001b[0m\u001b[0m\n\u001b[1;32m      4\u001b[0m \u001b[0;34m\u001b[0m\u001b[0m\n\u001b[0;32m----> 5\u001b[0;31m \u001b[0;32mfor\u001b[0m \u001b[0mt\u001b[0m \u001b[0;32min\u001b[0m \u001b[0mtemps_a_tester\u001b[0m\u001b[0;34m:\u001b[0m\u001b[0;34m\u001b[0m\u001b[0m\n\u001b[0m\u001b[1;32m      6\u001b[0m     \u001b[0mmem_t\u001b[0m\u001b[0;34m[\u001b[0m\u001b[0mt\u001b[0m\u001b[0;34m]\u001b[0m \u001b[0;34m=\u001b[0m \u001b[0mrun_simulation\u001b[0m\u001b[0;34m(\u001b[0m\u001b[0;36m100\u001b[0m\u001b[0;34m,\u001b[0m \u001b[0mt\u001b[0m\u001b[0;34m)\u001b[0m\u001b[0;34m\u001b[0m\u001b[0m\n",
      "\u001b[0;31mNameError\u001b[0m: name 'temps_a_tester' is not defined"
     ]
    }
   ],
   "source": [
    "#mem_t = {}\n",
    "#temps_a_tester = [0.1, 0.5, 1, 5, 10, 30, 60, 90, 120]\n",
    "#temps_a_tester = [10 * i for i in range(2, 12)]\n",
    "\n",
    "for t in temps_a_tester:\n",
    "    mem_t[t] = run_simulation(100, t)"
   ]
  },
  {
   "cell_type": "code",
   "execution_count": null,
   "metadata": {},
   "outputs": [],
   "source": [
    "plt.figure(figsize=(20, 10))\n",
    "#plt.xscale(\"log\")\n",
    "#plt.yscale(\"log\")\n",
    "plt.plot(mem_t.keys(), mem_t.values(), \"o\")\n",
    "plt.title(\"Temps que met corium à supprimer le béton sacrificiel en fonction du pas de temps\")"
   ]
  },
  {
   "cell_type": "code",
   "execution_count": null,
   "metadata": {},
   "outputs": [],
   "source": []
  }
 ],
 "metadata": {
  "kernelspec": {
   "display_name": "Python 3",
   "language": "python",
   "name": "python3"
  },
  "language_info": {
   "codemirror_mode": {
    "name": "ipython",
    "version": 3
   },
   "file_extension": ".py",
   "mimetype": "text/x-python",
   "name": "python",
   "nbconvert_exporter": "python",
   "pygments_lexer": "ipython3",
   "version": "3.6.5"
  }
 },
 "nbformat": 4,
 "nbformat_minor": 2
}
