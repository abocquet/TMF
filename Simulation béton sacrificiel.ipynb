{
 "cells": [
  {
   "cell_type": "code",
   "execution_count": 38,
   "metadata": {},
   "outputs": [],
   "source": [
    "import numpy as np\n",
    "import pandas as pd\n",
    "import matplotlib.pyplot as plt\n",
    "import progressbar\n",
    "import os"
   ]
  },
  {
   "cell_type": "code",
   "execution_count": 39,
   "metadata": {},
   "outputs": [],
   "source": [
    "nombre_couches = 30\n",
    "pas_de_temps = 0.01 # s\n",
    "temps_total = 30 # s\n",
    "\n",
    "hauteur_beton_sacrificiel = 10 # metres\n",
    "\n",
    "temperature_initiale_air = 70 + 273 # ° kelvins\n",
    "masse_aire = 1000 # kg\n",
    "\n",
    "coefficient_echange_air_corium = 5 # W/(m2.K)\n",
    "\n",
    "temperature_intiale_beton = temperature_initiale_air\n",
    "conductivite_beton = 1.9082\n",
    "temperature_fusion_beton = 1_500 # K\n",
    "chaleur_latente_beton = 640_000 # J/kg\n",
    "cp_beton = 1430 # J/kg.K\n",
    "masse_volumique_beton = 2016 # kg/m3\n",
    "temperature_frontiere_beton = 70 + 273 # K\n",
    "\n",
    "temperature_initiale_corium = 273 * 2000\n",
    "production_chaleur_corium = 30e6\n",
    "\n",
    "sigma = 5.70e-8 # sigma de la loi de stephan"
   ]
  },
  {
   "cell_type": "code",
   "execution_count": 44,
   "metadata": {},
   "outputs": [
    {
     "name": "stderr",
     "output_type": "stream",
     "text": [
      "100% (1000000 of 1000000) |##############| Elapsed Time: 0:00:06 Time:  0:00:06\n"
     ]
    },
    {
     "data": {
      "image/png": "[encoded data removed]",
      "text/plain": [
       "<Figure size 432x288 with 1 Axes>"
      ]
     },
     "metadata": {
      "needs_background": "light"
     },
     "output_type": "display_data"
    }
   ],
   "source": [
    "class Element:\n",
    "    def __init__(self, T0, density, x, cp, energy_production = 0):\n",
    "        self.T = T0 # temperature\n",
    "        self.density = density # density\n",
    "        self.x = x # thickness\n",
    "        self.cp = cp # thermal capacity\n",
    "        self.energy_production = energy_production\n",
    "        \n",
    "        self.prev_neighboor = None\n",
    "        self.prev_neighboor_h = 0.0\n",
    "        \n",
    "        self.next_neighboor = None\n",
    "        self.next_neighboor_h = 0.0\n",
    "        \n",
    "        self.dT = 0.0\n",
    "        self.history = []\n",
    "        \n",
    "    def calc_next_step(self, dt):\n",
    "        self.dT = 0\n",
    "        \n",
    "        self.dT += self.energy_production * dt\n",
    "        \n",
    "        if self.prev_neighboor is not None:\n",
    "            self.dT += self.prev_neighboor_h * (self.prev_neighboor.T - self.T) * dt # conductivity\n",
    "            self.dT += sigma * (self.prev_neighboor.T ** 4 - self.T ** 4) * dt      # radiation\n",
    "        \n",
    "        if self.next_neighboor is not None:\n",
    "            self.dT += self.next_neighboor_h * (self.next_neighboor.T - self.T) * dt\n",
    "            self.dT += sigma * (self.next_neighboor.T ** 4 - self.T ** 4) * dt\n",
    "        \n",
    "        mass = self.density * self.x\n",
    "        self.dT /= (self.cp * mass)\n",
    "    \n",
    "    def go_next_state(self):\n",
    "        self.history.append(self.T)\n",
    "        self.T += self.dT\n",
    "\n",
    "\n",
    "\n"
   ]
  },
  {
   "cell_type": "code",
   "execution_count": null,
   "metadata": {},
   "outputs": [],
   "source": []
  }
 ],
 "metadata": {
  "kernelspec": {
   "display_name": "Python 3",
   "language": "python",
   "name": "python3"
  },
  "language_info": {
   "codemirror_mode": {
    "name": "ipython",
    "version": 3
   },
   "file_extension": ".py",
   "mimetype": "text/x-python",
   "name": "python",
   "nbconvert_exporter": "python",
   "pygments_lexer": "ipython3",
   "version": "3.6.5"
  }
 },
 "nbformat": 4,
 "nbformat_minor": 2
}
